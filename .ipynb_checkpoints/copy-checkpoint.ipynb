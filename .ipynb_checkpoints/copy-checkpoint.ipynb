{
 "cells": [
  {
   "cell_type": "code",
   "execution_count": null,
   "metadata": {},
   "outputs": [],
   "source": [
    "# Load libraries and dependencies\n",
    "import warnings\n",
    "import itertools\n",
    "import numpy as np\n",
    "import seaborn as sns\n",
    "import matplotlib.pyplot as plt\n",
    "warnings.filterwarnings(\"ignore\")\n",
    "plt.style.use('fivethirtyeight')\n",
    "import pandas as pd\n",
    "import statsmodels.api as sm\n",
    "from datetime import datetime\n",
    "\n",
    "import matplotlib\n",
    "matplotlib.rcParams['axes.labelsize'] = 14\n",
    "matplotlib.rcParams['xtick.labelsize'] = 12\n",
    "matplotlib.rcParams['ytick.labelsize'] = 12\n",
    "matplotlib.rcParams['text.color'] = 'k'"
   ]
  },
  {
   "cell_type": "code",
   "execution_count": null,
   "metadata": {},
   "outputs": [],
   "source": [
    "# Read csv file into data frame\n",
    "df = pd.read_csv(\"Crimes_-_2001_to_present.csv\")\n",
    "# arrest = df.loc[df['Arrest'] == True]\n",
    "df"
   ]
  },
  {
   "cell_type": "code",
   "execution_count": null,
   "metadata": {},
   "outputs": [],
   "source": [
    "# View min and max dates\n",
    "df['Date'].min(), df['Date'].max()"
   ]
  },
  {
   "cell_type": "code",
   "execution_count": null,
   "metadata": {},
   "outputs": [],
   "source": [
    "# If we wanted to drop attributes, the below code would be utilized\n",
    "\n",
    "# cols = ['ID', 'Case Number', 'Block', 'IUCR', 'Primary Type', 'Description', 'Location Description', 'Arrest', 'Domestic', 'Beat', 'District', 'Community Area', 'FBI Code', 'X Coordinate', 'Y Coordinate', 'Year', 'Updated On', 'Latitude', 'Longitude', 'Location']\n",
    "# df.drop(cols, axis=1, inplace=True)\n",
    "# df = df.sort_values('Date')\n",
    "# df.isnull().sum()"
   ]
  },
  {
   "cell_type": "code",
   "execution_count": null,
   "metadata": {},
   "outputs": [],
   "source": [
    "# Reformat date and time using datetime\n",
    "df.Date = pd.to_datetime(df.Date, format='%m/%d/%Y %I:%M:%S %p')"
   ]
  },
  {
   "cell_type": "code",
   "execution_count": null,
   "metadata": {},
   "outputs": [],
   "source": [
    "# View min and max dates to verify the conversion\n",
    "df['Date'].min(), df['Date'].max()"
   ]
  },
  {
   "cell_type": "code",
   "execution_count": null,
   "metadata": {},
   "outputs": [],
   "source": [
    "# Set start and end dates since 2020 is incolmplete and will skew results\n",
    "start_date = '2001-01-01 01:00:00'\n",
    "end_date = '2019-12-31 00:58:00'"
   ]
  },
  {
   "cell_type": "code",
   "execution_count": null,
   "metadata": {},
   "outputs": [],
   "source": [
    "mask = (df['Date'] > start_date) & (df['Date'] <= end_date)"
   ]
  },
  {
   "cell_type": "code",
   "execution_count": null,
   "metadata": {},
   "outputs": [],
   "source": [
    "df = df.loc[mask]\n",
    "df"
   ]
  },
  {
   "cell_type": "code",
   "execution_count": null,
   "metadata": {},
   "outputs": [],
   "source": [
    "# Set the index to be the date \n",
    "df.index = pd.DatetimeIndex(df.Date)"
   ]
  },
  {
   "cell_type": "code",
   "execution_count": null,
   "metadata": {},
   "outputs": [],
   "source": [
    "# View total counts for Primary Type of offenses\n",
    "df['Primary Type'].value_counts()"
   ]
  },
  {
   "cell_type": "code",
   "execution_count": null,
   "metadata": {},
   "outputs": [],
   "source": [
    "# View total counts for top 15 Primary Type of offenses\n",
    "df['Primary Type'].value_counts().iloc[:15]"
   ]
  },
  {
   "cell_type": "code",
   "execution_count": null,
   "metadata": {},
   "outputs": [],
   "source": [
    "df['Primary Type'].value_counts().iloc[:15].index"
   ]
  },
  {
   "cell_type": "code",
   "execution_count": null,
   "metadata": {
    "scrolled": false
   },
   "outputs": [],
   "source": [
    "# Plot top 15 Primary Type of offenses\n",
    "plt.figure(figsize = (16, 8))\n",
    "sns.countplot(y= 'Primary Type', data = df, order = df['Primary Type'].value_counts().iloc[:15].index);\n",
    "plt.savefig('Images/Primary_Type.png')"
   ]
  },
  {
   "cell_type": "code",
   "execution_count": null,
   "metadata": {},
   "outputs": [],
   "source": [
    "# Plot top 15 Location Descriptions where offenses occured\n",
    "plt.figure(figsize = (16, 8))\n",
    "sns.countplot(y= 'Location Description', data = df, order = df['Location Description'].value_counts().iloc[:15].index);\n",
    "plt.savefig('Images/Location_Description.png')"
   ]
  },
  {
   "cell_type": "code",
   "execution_count": null,
   "metadata": {},
   "outputs": [],
   "source": [
    "# Plot the Districts with highest crime counts\n",
    "plt.figure(figsize = (16, 8))\n",
    "sns.countplot(y= 'District', data = df, order = df['District'].value_counts().iloc[:20].index);\n",
    "plt.savefig('Images/District.png')"
   ]
  },
  {
   "cell_type": "code",
   "execution_count": null,
   "metadata": {},
   "outputs": [],
   "source": [
    "# Resample the data to get crime counts by year\n",
    "yearly = df.resample('Y').size()\n",
    "yearly"
   ]
  },
  {
   "cell_type": "code",
   "execution_count": null,
   "metadata": {},
   "outputs": [],
   "source": [
    "# Plot the crime counts by year\n",
    "yearly.plot(figsize=(12, 6))\n",
    "plt.title('Number of Crimes by Year')\n",
    "plt.xlabel('Time')\n",
    "plt.ylabel('Crime Count')\n",
    "plt.savefig('Images/Number_of_Crimes_by_Year.png')"
   ]
  },
  {
   "cell_type": "code",
   "execution_count": null,
   "metadata": {},
   "outputs": [],
   "source": [
    "# Resample the data to get crime counts by quarter\n",
    "quarterly = df.resample('Q').size()\n",
    "quarterly"
   ]
  },
  {
   "cell_type": "code",
   "execution_count": null,
   "metadata": {},
   "outputs": [],
   "source": [
    "# Plot the crime counts by quarter\n",
    "quarterly.plot(figsize=(12, 6))\n",
    "plt.title('Number of Crimes by Quarter')\n",
    "plt.xlabel('Time')\n",
    "plt.ylabel('Crime Count')\n",
    "plt.savefig('Images/Number_of_Crimes_by_Quarter.png')"
   ]
  },
  {
   "cell_type": "code",
   "execution_count": null,
   "metadata": {},
   "outputs": [],
   "source": [
    "# Resample the data to get crime counts by month\n",
    "monthly = df.resample('M').size()\n",
    "monthly"
   ]
  },
  {
   "cell_type": "code",
   "execution_count": null,
   "metadata": {},
   "outputs": [],
   "source": [
    "# Plot the crime counts by month\n",
    "monthly.plot(figsize=(12, 6))\n",
    "plt.title('Number of Crimes by Month')\n",
    "plt.xlabel('Time')\n",
    "plt.ylabel('Crime Count')\n",
    "plt.savefig('Images/Number_of_Crimes_by_Month.png')"
   ]
  },
  {
   "cell_type": "code",
   "execution_count": null,
   "metadata": {},
   "outputs": [],
   "source": [
    "# Plot decomposition of monthly crime counts to view trend and seasonality\n",
    "from pylab import rcParams\n",
    "rcParams['figure.figsize'] = 16, 8\n",
    "decomposition = sm.tsa.seasonal_decompose(monthly, model='additive')\n",
    "fig = decomposition.plot()\n",
    "plt.xlabel('Time')\n",
    "plt.savefig('Images/Decomposition.png')"
   ]
  },
  {
   "cell_type": "code",
   "execution_count": null,
   "metadata": {},
   "outputs": [],
   "source": [
    "# Print examples of ARIMA parameters combinations\n",
    "p = d = q = range(0, 2)\n",
    "pdq = list(itertools.product(p, d, q))\n",
    "seasonal_pdq = [(x[0], x[1], x[2], 12) for x in list(itertools.product(p, d, q))]\n",
    "print('Examples of parameter combinations for Seasonal ARIMA...')\n",
    "print('SARIMAX: {} x {}'.format(pdq[1], seasonal_pdq[1]))\n",
    "print('SARIMAX: {} x {}'.format(pdq[1], seasonal_pdq[2]))\n",
    "print('SARIMAX: {} x {}'.format(pdq[2], seasonal_pdq[3]))\n",
    "print('SARIMAX: {} x {}'.format(pdq[2], seasonal_pdq[4]))"
   ]
  },
  {
   "cell_type": "code",
   "execution_count": null,
   "metadata": {},
   "outputs": [],
   "source": [
    "# Run a loop to get all parameter combinations for seasonal ARIMA to determine lowest AIC value\n",
    "for param in pdq:\n",
    "    for param_seasonal in seasonal_pdq:\n",
    "        try:\n",
    "            mod = sm.tsa.statespace.SARIMAX(monthly, \n",
    "                                            order=param,\n",
    "                                            seasonal_order=param_seasonal,\n",
    "                                            enforce_stationarity=False,\n",
    "                                            enforce_invertibility=False)\n",
    "            results = mod.fit()\n",
    "            print('ARIMA{}x{}12 - AIC:{}'.format(param, param_seasonal, results.aic))\n",
    "            \n",
    "        except:\n",
    "            continue"
   ]
  },
  {
   "cell_type": "code",
   "execution_count": null,
   "metadata": {},
   "outputs": [],
   "source": [
    "# ARIMA(1, 1, 1)x(1, 1, 1, 12)12 - AIC:3359.565414718487 was selected because it had the lowest AIC value\n",
    "# This ensures our model will not overfit the data\n",
    "\n",
    "mod = sm.tsa.statespace.SARIMAX(monthly,\n",
    "                                order=(1, 1, 1),\n",
    "                                seasonal_order=(1, 1, 1, 12),\n",
    "                                enforce_stationarity=False,\n",
    "                                enforce_invertibility=False)\n",
    "\n",
    "results = mod.fit()\n",
    "print(results.summary().tables[1])"
   ]
  },
  {
   "cell_type": "code",
   "execution_count": null,
   "metadata": {},
   "outputs": [],
   "source": [
    "# Plot diagnostics on selected ARIMA model to ensure a good fit of data based on normally distributed data\n",
    "results.plot_diagnostics(figsize=(16, 8))\n",
    "plt.savefig('Images/Diagnostics.png')"
   ]
  },
  {
   "cell_type": "code",
   "execution_count": null,
   "metadata": {},
   "outputs": [],
   "source": [
    "# Plot the predicted model against the actual data trend to view goodness of fit\n",
    "pred = results.get_prediction(start=pd.to_datetime('2015-12-31'), dynamic=False)\n",
    "pred_ci = pred.conf_int()\n",
    "\n",
    "ax = monthly['2010':].plot(label='observed')\n",
    "pred.predicted_mean.plot(ax=ax, label='forecasted', alpha=.7, figsize=(16, 8))\n",
    "\n",
    "ax.fill_between(pred_ci.index,\n",
    "                pred_ci.iloc[:, 0],\n",
    "                pred_ci.iloc[:, 1], color='k', alpha=.2)\n",
    "\n",
    "ax.set_xlabel('Time')\n",
    "ax.set_ylabel('Crime Count')\n",
    "plt.title('Chicago Crime Prediction (ARIMA Model)')\n",
    "plt.legend()\n",
    "plt.savefig('Images/Prediction_(ARIMA_Model).png')"
   ]
  },
  {
   "cell_type": "code",
   "execution_count": null,
   "metadata": {},
   "outputs": [],
   "source": [
    "# Determine how close the fit is between the true trend versus the forecasted trend\n",
    "monthly_forecasted = pred.predicted_mean\n",
    "monthly_truth = monthly['2015-12-31':]\n",
    "\n",
    "mse = ((monthly_forecasted - monthly_truth) ** 2).mean()\n",
    "print('The Mean Squared Error of the forecast is {}'.format(round(mse, 2)))"
   ]
  },
  {
   "cell_type": "code",
   "execution_count": null,
   "metadata": {},
   "outputs": [],
   "source": [
    "# Determine the variation per month by the root mean squared error\n",
    "print('The Root Mean Squared Error of the forecast is {}'.format(round(np.sqrt(mse), 2)))"
   ]
  },
  {
   "cell_type": "code",
   "execution_count": null,
   "metadata": {},
   "outputs": [],
   "source": [
    "# Plot graph showing trend since 2001 and prediction through 2025.\n",
    "\n",
    "pred_uc = results.get_forecast(steps=60)\n",
    "pred_ci = pred_uc.conf_int()\n",
    "\n",
    "ax = monthly.plot(label='observed', figsize=(16, 8))\n",
    "pred_uc.predicted_mean.plot(ax=ax, label='forecasted')\n",
    "ax.fill_between(pred_ci.index,\n",
    "                pred_ci.iloc[:, 0],\n",
    "                pred_ci.iloc[:, 1], color='k', alpha=.25)\n",
    "\n",
    "ax.set_xlabel('Time')\n",
    "ax.set_ylabel('Crime Rate')\n",
    "plt.title('Chicago Crime Forecasting through year 2025 (ARIMA Model)')\n",
    "plt.legend()\n",
    "plt.savefig('Images/Forecasting_2001_2025(ARIMA_Model).png')"
   ]
  },
  {
   "cell_type": "code",
   "execution_count": null,
   "metadata": {},
   "outputs": [],
   "source": [
    "# Plot graph showing trend since 2015 and prediction through 2025.\n",
    "pred_uc = results.get_forecast(steps=60)\n",
    "pred_ci = pred_uc.conf_int()\n",
    "\n",
    "ax = monthly['2015':].plot(label='observed', figsize=(16, 8))\n",
    "pred_uc.predicted_mean.plot(ax=ax, label='forecasted')\n",
    "ax.fill_between(pred_ci.index,\n",
    "                pred_ci.iloc[:, 0],\n",
    "                pred_ci.iloc[:, 1], color='k', alpha=.25)\n",
    "\n",
    "ax.set_xlabel('Time')\n",
    "ax.set_ylabel('Crime Rate')\n",
    "plt.title('Chicago Crime Forecasting through year 2025 (ARIMA Model)')\n",
    "plt.legend()\n",
    "plt.savefig('Images/Forecasting_2015_2025(ARIMA_Model).png')"
   ]
  },
  {
   "cell_type": "code",
   "execution_count": null,
   "metadata": {},
   "outputs": [],
   "source": [
    "# Gegt average count of crimes per month since 2001\n",
    "average = monthly.mean(axis = 0, skipna = True) \n",
    "print('The average number of crimes per month since 2001 are: {}'.format(round(average)))"
   ]
  },
  {
   "cell_type": "code",
   "execution_count": null,
   "metadata": {},
   "outputs": [],
   "source": [
    "# Recall the root mean squared error value\n",
    "print('The Root Mean Squared Error of the forecast is {}'.format(round(np.sqrt(mse), 2)))"
   ]
  },
  {
   "cell_type": "code",
   "execution_count": null,
   "metadata": {},
   "outputs": [],
   "source": [
    "# Print percentage of how close the predicted model is to the actual trend\n",
    "print('This means that the values predicited in the model are aboout {}% in the range of the actual data.'.format(round((np.sqrt(mse)/average)*100, 2)))"
   ]
  },
  {
   "cell_type": "code",
   "execution_count": null,
   "metadata": {},
   "outputs": [],
   "source": []
  }
 ],
 "metadata": {
  "kernelspec": {
   "display_name": "Python 3",
   "language": "python",
   "name": "python3"
  },
  "language_info": {
   "codemirror_mode": {
    "name": "ipython",
    "version": 3
   },
   "file_extension": ".py",
   "mimetype": "text/x-python",
   "name": "python",
   "nbconvert_exporter": "python",
   "pygments_lexer": "ipython3",
   "version": "3.7.4"
  }
 },
 "nbformat": 4,
 "nbformat_minor": 2
}
